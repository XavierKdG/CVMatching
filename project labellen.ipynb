{
 "cells": [
  {
   "cell_type": "code",
   "execution_count": 2,
   "id": "5c5cdce1",
   "metadata": {},
   "outputs": [],
   "source": [
    "import pandas as pd \n"
   ]
  },
  {
   "cell_type": "code",
   "execution_count": null,
   "id": "8b06bda6",
   "metadata": {},
   "outputs": [],
   "source": [
    "df1 = pd.read_csv('/home/admin-groep11/CVMatching-1/data/raw/job_descriptions/job_descriptions.csv')\n",
    "df1.head()"
   ]
  },
  {
   "cell_type": "code",
   "execution_count": null,
   "id": "a596d572",
   "metadata": {},
   "outputs": [],
   "source": [
    "df2 = pd.read_csv('/home/admin-groep11/CVMatching-1/data/raw/job_descriptions/job_descriptions2.csv')\n",
    "df2.head()"
   ]
  },
  {
   "cell_type": "code",
   "execution_count": null,
   "id": "8c4a7469",
   "metadata": {},
   "outputs": [],
   "source": [
    "df3 = pd.read_csv('/home/admin-groep11/CVMatching-1/Resume.csv')\n",
    "df3.head()"
   ]
  },
  {
   "cell_type": "code",
   "execution_count": null,
   "id": "c4ca3451",
   "metadata": {},
   "outputs": [],
   "source": [
    "df1.columns "
   ]
  },
  {
   "cell_type": "code",
   "execution_count": null,
   "id": "a8d4ecf9",
   "metadata": {},
   "outputs": [],
   "source": [
    "df2.columns"
   ]
  },
  {
   "cell_type": "code",
   "execution_count": null,
   "id": "abc12741",
   "metadata": {},
   "outputs": [],
   "source": [
    "df3.columns"
   ]
  },
  {
   "cell_type": "code",
   "execution_count": null,
   "id": "e51f64eb",
   "metadata": {},
   "outputs": [],
   "source": [
    "import pandas as pd\n",
    "import numpy as np\n",
    "\n",
    "# Laad de datasets in\n",
    "df_jobs = pd.read_csv('/home/admin-groep11/CVMatching-1/data/raw/job_descriptions/job_descriptions2.csv')\n",
    "df_resumes = pd.read_csv('/home/admin-groep11/CVMatching-1/Resume.csv')"
   ]
  },
  {
   "cell_type": "code",
   "execution_count": null,
   "id": "1429e828",
   "metadata": {},
   "outputs": [],
   "source": [
    "# Selecteer relevante kolommen en vul lege waarden (NaN) met een lege string\n",
    "jobs_df = df_jobs[['Job ID', 'Business Title', 'Job Description', 'Job Category']].fillna('')\n",
    "resumes_df = df_resumes[['ID', 'Resume_str', 'Category']].fillna('')\n",
    "\n",
    "# Maak een lege lijst voor de nieuwe gelabelde data\n",
    "data_list = []\n",
    "\n",
    "# Loop over elke vacature en elk cv om paren te maken en te labelen\n",
    "for job_index, job_row in jobs_df.iterrows():\n",
    "    for resume_index, resume_row in resumes_df.iterrows():\n",
    "        # Bepaal het label\n",
    "        # Gebruik de 'Category' van het cv om te matchen met de vacaturetitel\n",
    "        # We maken hier een vereenvoudigde aanname dat de categorie in de titel of categorie van de vacature staat\n",
    "        is_match = 0\n",
    "        job_category_and_title = (job_row['Job Category'] + ' ' + job_row['Business Title']).lower()\n",
    "        resume_category = resume_row['Category'].lower()\n",
    "        \n",
    "        # Controleer of de cv-categorie voorkomt in de vacaturetekst\n",
    "        if resume_category in job_category_and_title:\n",
    "            is_match = 1\n",
    "        \n",
    "        # Voeg het gelabelde paar toe aan de lijst\n",
    "        data_list.append({\n",
    "            'job_id': job_row['Job ID'],\n",
    "            'resume_id': resume_row['ID'],\n",
    "            'job_text': job_row['Job Description'],\n",
    "            'resume_text': resume_row['Resume_str'],\n",
    "            'label': is_match\n",
    "        })\n",
    "\n",
    "# Converteer de lijst naar een pandas DataFrame\n",
    "labeled_df = pd.DataFrame(data_list)"
   ]
  },
  {
   "cell_type": "code",
   "execution_count": null,
   "id": "59002b4c",
   "metadata": {},
   "outputs": [],
   "source": [
    "# Toon de eerste 5 rijen van de nieuwe dataset\n",
    "print(\"Eerste 5 rijen van de gelabelde dataset:\")\n",
    "print(labeled_df.head())\n",
    "\n",
    "# Toon de verdeling van de labels om te controleren of er matches zijn gevonden\n",
    "print(\"\\nVerdeling van de labels:\")\n",
    "print(labeled_df['label'].value_counts())\n",
    "\n",
    "# Sla de nieuwe dataset op\n",
    "labeled_df.to_csv('gecombineerde_en_gelabelde_data.csv', index=False)"
   ]
  },
  {
   "cell_type": "code",
   "execution_count": 3,
   "id": "e1cd119f",
   "metadata": {},
   "outputs": [
    {
     "data": {
      "text/html": [
       "<div>\n",
       "<style scoped>\n",
       "    .dataframe tbody tr th:only-of-type {\n",
       "        vertical-align: middle;\n",
       "    }\n",
       "\n",
       "    .dataframe tbody tr th {\n",
       "        vertical-align: top;\n",
       "    }\n",
       "\n",
       "    .dataframe thead th {\n",
       "        text-align: right;\n",
       "    }\n",
       "</style>\n",
       "<table border=\"1\" class=\"dataframe\">\n",
       "  <thead>\n",
       "    <tr style=\"text-align: right;\">\n",
       "      <th></th>\n",
       "      <th>job_id</th>\n",
       "      <th>resume_id</th>\n",
       "      <th>job_text</th>\n",
       "      <th>resume_text</th>\n",
       "      <th>label</th>\n",
       "    </tr>\n",
       "  </thead>\n",
       "  <tbody>\n",
       "    <tr>\n",
       "      <th>0</th>\n",
       "      <td>87990</td>\n",
       "      <td>16852973</td>\n",
       "      <td>Division of Economic &amp; Financial Opportunity (...</td>\n",
       "      <td>HR ADMINISTRATOR/MARKETING ASSOCIATE\\...</td>\n",
       "      <td>0</td>\n",
       "    </tr>\n",
       "    <tr>\n",
       "      <th>1</th>\n",
       "      <td>87990</td>\n",
       "      <td>22323967</td>\n",
       "      <td>Division of Economic &amp; Financial Opportunity (...</td>\n",
       "      <td>HR SPECIALIST, US HR OPERATIONS      ...</td>\n",
       "      <td>0</td>\n",
       "    </tr>\n",
       "    <tr>\n",
       "      <th>2</th>\n",
       "      <td>87990</td>\n",
       "      <td>33176873</td>\n",
       "      <td>Division of Economic &amp; Financial Opportunity (...</td>\n",
       "      <td>HR DIRECTOR       Summary      Over 2...</td>\n",
       "      <td>0</td>\n",
       "    </tr>\n",
       "    <tr>\n",
       "      <th>3</th>\n",
       "      <td>87990</td>\n",
       "      <td>27018550</td>\n",
       "      <td>Division of Economic &amp; Financial Opportunity (...</td>\n",
       "      <td>HR SPECIALIST       Summary    Dedica...</td>\n",
       "      <td>0</td>\n",
       "    </tr>\n",
       "    <tr>\n",
       "      <th>4</th>\n",
       "      <td>87990</td>\n",
       "      <td>17812897</td>\n",
       "      <td>Division of Economic &amp; Financial Opportunity (...</td>\n",
       "      <td>HR MANAGER         Skill Highlights  ...</td>\n",
       "      <td>0</td>\n",
       "    </tr>\n",
       "    <tr>\n",
       "      <th>5</th>\n",
       "      <td>87990</td>\n",
       "      <td>11592605</td>\n",
       "      <td>Division of Economic &amp; Financial Opportunity (...</td>\n",
       "      <td>HR GENERALIST       Summary     Dedic...</td>\n",
       "      <td>0</td>\n",
       "    </tr>\n",
       "    <tr>\n",
       "      <th>6</th>\n",
       "      <td>87990</td>\n",
       "      <td>25824789</td>\n",
       "      <td>Division of Economic &amp; Financial Opportunity (...</td>\n",
       "      <td>HR MANAGER       Summary    HUMAN RES...</td>\n",
       "      <td>0</td>\n",
       "    </tr>\n",
       "    <tr>\n",
       "      <th>7</th>\n",
       "      <td>87990</td>\n",
       "      <td>15375009</td>\n",
       "      <td>Division of Economic &amp; Financial Opportunity (...</td>\n",
       "      <td>HR MANAGER         Professional Summa...</td>\n",
       "      <td>0</td>\n",
       "    </tr>\n",
       "    <tr>\n",
       "      <th>8</th>\n",
       "      <td>87990</td>\n",
       "      <td>11847784</td>\n",
       "      <td>Division of Economic &amp; Financial Opportunity (...</td>\n",
       "      <td>HR SPECIALIST       Summary    Posses...</td>\n",
       "      <td>0</td>\n",
       "    </tr>\n",
       "    <tr>\n",
       "      <th>9</th>\n",
       "      <td>87990</td>\n",
       "      <td>32896934</td>\n",
       "      <td>Division of Economic &amp; Financial Opportunity (...</td>\n",
       "      <td>HR CLERK       Summary    Translates ...</td>\n",
       "      <td>0</td>\n",
       "    </tr>\n",
       "  </tbody>\n",
       "</table>\n",
       "</div>"
      ],
      "text/plain": [
       "   job_id  resume_id                                           job_text  \\\n",
       "0   87990   16852973  Division of Economic & Financial Opportunity (...   \n",
       "1   87990   22323967  Division of Economic & Financial Opportunity (...   \n",
       "2   87990   33176873  Division of Economic & Financial Opportunity (...   \n",
       "3   87990   27018550  Division of Economic & Financial Opportunity (...   \n",
       "4   87990   17812897  Division of Economic & Financial Opportunity (...   \n",
       "5   87990   11592605  Division of Economic & Financial Opportunity (...   \n",
       "6   87990   25824789  Division of Economic & Financial Opportunity (...   \n",
       "7   87990   15375009  Division of Economic & Financial Opportunity (...   \n",
       "8   87990   11847784  Division of Economic & Financial Opportunity (...   \n",
       "9   87990   32896934  Division of Economic & Financial Opportunity (...   \n",
       "\n",
       "                                         resume_text  label  \n",
       "0           HR ADMINISTRATOR/MARKETING ASSOCIATE\\...      0  \n",
       "1           HR SPECIALIST, US HR OPERATIONS      ...      0  \n",
       "2           HR DIRECTOR       Summary      Over 2...      0  \n",
       "3           HR SPECIALIST       Summary    Dedica...      0  \n",
       "4           HR MANAGER         Skill Highlights  ...      0  \n",
       "5           HR GENERALIST       Summary     Dedic...      0  \n",
       "6           HR MANAGER       Summary    HUMAN RES...      0  \n",
       "7           HR MANAGER         Professional Summa...      0  \n",
       "8           HR SPECIALIST       Summary    Posses...      0  \n",
       "9           HR CLERK       Summary    Translates ...      0  "
      ]
     },
     "execution_count": 3,
     "metadata": {},
     "output_type": "execute_result"
    }
   ],
   "source": [
    "df5 = pd.read_csv(\"/home/admin-groep11/CVMatching-1/notebooks/gecombineerde_en_gelabelde_data.csv\")\n",
    "df5.head(10)"
   ]
  }
 ],
 "metadata": {
  "kernelspec": {
   "display_name": "cvmatching",
   "language": "python",
   "name": "python3"
  },
  "language_info": {
   "codemirror_mode": {
    "name": "ipython",
    "version": 3
   },
   "file_extension": ".py",
   "mimetype": "text/x-python",
   "name": "python",
   "nbconvert_exporter": "python",
   "pygments_lexer": "ipython3",
   "version": "3.13.7"
  }
 },
 "nbformat": 4,
 "nbformat_minor": 5
}
