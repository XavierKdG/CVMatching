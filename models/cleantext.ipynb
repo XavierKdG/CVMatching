{
 "cells": [
  {
   "cell_type": "code",
   "execution_count": 6,
   "id": "9d80af9d",
   "metadata": {},
   "outputs": [
    {
     "name": "stdout",
     "output_type": "stream",
     "text": [
      "Oorspronkelijk: Experienced Data Scientist with 5 years in Python, SQL, and Machine Learning!\n",
      "Schoongemaakt: experienced data scientist years python sql machine learning\n"
     ]
    }
   ],
   "source": [
    "import re\n",
    "\n",
    "def clean_text(text):\n",
    "    #Lowercase\n",
    "    text = text.lower()\n",
    "    #Alles behalve letters en spaties verwijderen\n",
    "    text = re.sub(r'[^a-z\\s]', ' ', text)\n",
    "    #Dubbele spaties opruimen\n",
    "    text = re.sub(r'\\s+', ' ', text).strip()\n",
    "    #Optioneel: simpele stopwoordenlijst\n",
    "    stop_words = {\"the\", \"and\", \"in\", \"on\", \"at\", \"for\", \"with\", \"a\", \"an\", \"of\"}\n",
    "    tokens = [w for w in text.split() if w not in stop_words]\n",
    "    return \" \".join(tokens)\n",
    "\n",
    "# Voorbeeld\n",
    "cv = \"Experienced Data Scientist with 5 years in Python, SQL, and Machine Learning!\"\n",
    "print(\"Oorspronkelijk:\", cv)\n",
    "print(\"Schoongemaakt:\", clean_text(cv))\n"
   ]
  }
 ],
 "metadata": {
  "kernelspec": {
   "display_name": "cvmatching",
   "language": "python",
   "name": "python3"
  },
  "language_info": {
   "codemirror_mode": {
    "name": "ipython",
    "version": 3
   },
   "file_extension": ".py",
   "mimetype": "text/x-python",
   "name": "python",
   "nbconvert_exporter": "python",
   "pygments_lexer": "ipython3",
   "version": "3.13.7"
  }
 },
 "nbformat": 4,
 "nbformat_minor": 5
}
