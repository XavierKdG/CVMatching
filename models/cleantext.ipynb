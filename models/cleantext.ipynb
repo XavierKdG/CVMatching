{
 "cells": [
  {
   "cell_type": "code",
   "execution_count": null,
   "id": "9d80af9d",
   "metadata": {},
   "outputs": [],
   "source": [
    "import pandas as pd\n",
    "import re\n",
    "from sklearn.feature_extraction.text import TfidfVectorizer\n",
    "\n",
    "def clean_text(text):\n",
    "    text = str(text).lower()                       # lowercase\n",
    "    text = re.sub(r'[^a-z\\s]', ' ', text)          # verwijder alles behalve letters/spaties\n",
    "    text = re.sub(r'\\s+', ' ', text).strip()       # dubbele spaties weg\n",
    "    return text\n",
    "\n",
    "df_jobs = pd.read_csv(\"../data/raw/job_descriptions.csv\")\n",
    "\n",
    "df_jobs[\"text\"] = (df_jobs[\"Job Title\"].astype(str) + \" \" + df_jobs[\"skills\"].astype(str))\n",
    "df_jobs[\"text\"] = df_jobs[\"text\"].apply(clean_text)\n",
    "\n",
    "vectorizer = TfidfVectorizer(stop_words=\"english\")\n",
    "X = vectorizer.fit_transform(df_jobs[\"text\"])\n",
    "\n",
    "words = vectorizer.get_feature_names_out()\n",
    "\n",
    "df_tfidf = pd.DataFrame(X.toarray(), columns=words)\n",
    "\n",
    "print(\"Vorm van de TF-IDF matrix:\", X.shape)\n",
    "print(df_tfidf.head())\n",
    "\n",
    "# TF-IDF matrix opslaan\n",
    "df_tfidf.to_csv(\"../data/processed/tfidf_matrix.csv\", index=False)\n",
    "\n",
    "print(\"TF-IDF matrix opgeslagen in ../data/processed/tfidf_matrix.csv\")\n",
    "\n"
   ]
  }
 ],
 "metadata": {
  "kernelspec": {
   "display_name": "cvmatching",
   "language": "python",
   "name": "python3"
  },
  "language_info": {
   "codemirror_mode": {
    "name": "ipython",
    "version": 3
   },
   "file_extension": ".py",
   "mimetype": "text/x-python",
   "name": "python",
   "nbconvert_exporter": "python",
   "pygments_lexer": "ipython3",
   "version": "3.13.7"
  }
 },
 "nbformat": 4,
 "nbformat_minor": 5
}
